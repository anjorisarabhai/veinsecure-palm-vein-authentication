{
  "nbformat": 4,
  "nbformat_minor": 0,
  "metadata": {
    "colab": {
      "provenance": [],
      "gpuType": "T4"
    },
    "kernelspec": {
      "name": "python3",
      "display_name": "Python 3"
    },
    "language_info": {
      "name": "python"
    },
    "accelerator": "GPU"
  },
  "cells": [
    {
      "cell_type": "code",
      "execution_count": null,
      "metadata": {
        "colab": {
          "base_uri": "https://localhost:8080/"
        },
        "id": "YRX9lpdZ47uz",
        "outputId": "4f664cad-3114-4f79-8e19-6b44f4cb9951"
      },
      "outputs": [
        {
          "output_type": "stream",
          "name": "stdout",
          "text": [
            "✅ helpers.py created in utils/\n"
          ]
        }
      ],
      "source": [
        "import os\n",
        "\n",
        "# Create the utils directory if it doesn't exist\n",
        "os.makedirs('utils', exist_ok=True)\n",
        "\n",
        "# Define helper functions (you can add more later)\n",
        "helper_code = \"\"\"\n",
        "import os\n",
        "import cv2\n",
        "import numpy as np\n",
        "\n",
        "def load_processed_images(data_dir, img_size=(128, 128)):\n",
        "    X, y = [], []\n",
        "    class_names = sorted(os.listdir(data_dir))\n",
        "\n",
        "    for class_idx, class_name in enumerate(class_names):\n",
        "        class_path = os.path.join(data_dir, class_name)\n",
        "        if os.path.isdir(class_path):\n",
        "            for img_file in os.listdir(class_path):\n",
        "                if img_file.lower().endswith(('.jpg', '.jpeg', '.png')):\n",
        "                    img_path = os.path.join(class_path, img_file)\n",
        "                    img = cv2.imread(img_path, cv2.IMREAD_GRAYSCALE)\n",
        "                    if img is not None:\n",
        "                        img = cv2.resize(img, img_size)\n",
        "                        img = img.astype('float32') / 255.0\n",
        "                        X.append(img)\n",
        "                        y.append(class_idx)\n",
        "\n",
        "    X = np.expand_dims(np.array(X), -1)\n",
        "    y = np.array(y)\n",
        "    return X, y, class_names\n",
        "\"\"\"\n",
        "\n",
        "# Write to helpers.py\n",
        "with open(\"utils/helpers.py\", \"w\") as f:\n",
        "    f.write(helper_code)\n",
        "\n",
        "print(\"✅ helpers.py created in utils/\")"
      ]
    },
    {
      "cell_type": "code",
      "source": [],
      "metadata": {
        "id": "WZnwcP7V492_"
      },
      "execution_count": null,
      "outputs": []
    }
  ]
}